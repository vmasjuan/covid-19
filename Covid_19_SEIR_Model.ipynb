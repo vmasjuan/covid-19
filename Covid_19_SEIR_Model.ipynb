{
  "nbformat": 4,
  "nbformat_minor": 0,
  "metadata": {
    "colab": {
      "name": "Covid-19_SEIR-Model.ipynb",
      "provenance": [],
      "collapsed_sections": [],
      "authorship_tag": "ABX9TyPDEqEevxj/lVrJn5kohA6u",
      "include_colab_link": true
    },
    "kernelspec": {
      "name": "python3",
      "display_name": "Python 3"
    }
  },
  "cells": [
    {
      "cell_type": "markdown",
      "metadata": {
        "id": "view-in-github",
        "colab_type": "text"
      },
      "source": [
        "<a href=\"https://colab.research.google.com/github/vmasjuan/covid-19/blob/master/Covid_19_SEIR_Model.ipynb\" target=\"_parent\"><img src=\"https://colab.research.google.com/assets/colab-badge.svg\" alt=\"Open In Colab\"/></a>"
      ]
    },
    {
      "cell_type": "markdown",
      "metadata": {
        "id": "pEzkjMAGoGdy",
        "colab_type": "text"
      },
      "source": [
        "# Modelamiento del Coronavirus"
      ]
    },
    {
      "cell_type": "markdown",
      "metadata": {
        "id": "2tZnJ7S-va_7",
        "colab_type": "text"
      },
      "source": [
        "Autor [Victor Masjuan](https://www.linkedin.com/in/victormasjuan/).\n",
        "\n",
        "Agradezco la orientación de mi amiga [Andrea Basagoitía](https://www.linkedin.com/in/abasagoitia/), PhD, por su orientación y contribución para entender el fenómeno.\n",
        "\n",
        "Basado en el artículo \"Social Distancing to Slow the Coronavirus\", [Christian Hubbs](https://towardsdatascience.com/@christiandhubbs). Publicación original en [https://towardsdatascience.com/](https://towardsdatascience.com/social-distancing-to-slow-the-coronavirus-768292f04296)\n",
        "\n",
        "**El propósito de este repositorio es experimentar con las ecuaciones del Modelo SEIR para ilustrar un posible comportamiento del Covid-19, como también el efecto del distanciamiento social. No tiene propósito de ser exacto o predecir la evolución de la pandemia, por lo que no se debe entender los valores como reales ni sirven para toma de decisiones.** Para ello se requiere un modelo más completo y calibrarlo con los datos observados. He modificado el texto y código considerando también otros artículos."
      ]
    },
    {
      "cell_type": "markdown",
      "metadata": {
        "id": "k1OI3uvTOyW8",
        "colab_type": "text"
      },
      "source": [
        "## Introducción"
      ]
    },
    {
      "cell_type": "markdown",
      "metadata": {
        "id": "eSw9YY2QvlGq",
        "colab_type": "text"
      },
      "source": [
        "El COVID-19se ha extendido rápidamente por todo el mundo. Países como Italia y España han enfrentado lo peor de la Pandemia. Corea del Sur ha sido un ejemplo en la lucha contra el virus aplicando alta tasa de test de detección y asegurando un distanciamiento social. En Chile estamos enfrentando la pandemia en su etapa inicial, se augura tímidamente que las medidas de aislamiento y detección de casos ha logrado tener un brote menos abrupto a Italia y España. Chile tiene la oportunidad de mirar al futuro y nutrirse de la experiencia en Asia y Europa, preparando el sistema de salud y lugares temporales de atención, siguiendo las recomendaciones de la OMS ([WHO](https://www.who.int/es)). Para no colapsar la infraestructura es fundamental lo que se ha denominado aplanar la curva siendo el **distanciamiento social** la medida por escelencia."
      ]
    },
    {
      "cell_type": "markdown",
      "metadata": {
        "id": "esrnle0uvpVS",
        "colab_type": "text"
      },
      "source": [
        "La idea es reducir los contactos entre las personas, de manera de postergar y disminuir el peak de casos para no sobrepasar la capacidad de atención de salud, especialmente de los casos más graves que requieran no sólo hospitalción sino que equipos de ventilación. El gráfico a continuación ilustra esta idea."
      ]
    },
    {
      "cell_type": "markdown",
      "metadata": {
        "id": "mBzjAa40oSFZ",
        "colab_type": "text"
      },
      "source": [
        "![texto alternativo](https://www.fast.ai/images/coronavirus/image3.jpeg)\n",
        "Flattening the curve to keep infection manageable (Source: [Fast.ai](https://www.fast.ai/2020/03/09/coronavirus/))"
      ]
    },
    {
      "cell_type": "markdown",
      "metadata": {
        "id": "gfzzRcmaOqPU",
        "colab_type": "text"
      },
      "source": [
        "---"
      ]
    },
    {
      "cell_type": "markdown",
      "metadata": {
        "id": "7XJlTVKYvx1a",
        "colab_type": "text"
      },
      "source": [
        "## Estimación en base al Modelo SEIR"
      ]
    },
    {
      "cell_type": "markdown",
      "metadata": {
        "id": "wMFOD5p6v44i",
        "colab_type": "text"
      },
      "source": [
        "El modelo SEIR es un modelo compartimental que muestra como se propaga una enfermedad en la población. SEIR es un acronismo para **Susceptible, Expuesto, Infectado, Recuperado**. Cuando una infección se introduce en una poplación, las personas se muevem de una de estas clases (o compartimientos) al próximo. Cuando alcanzan el estado **R**, se asume que no serán infectados nuevamente (sobreviven y se hacen inmunes o fallecen sucumbiendo a la enfermedad)."
      ]
    },
    {
      "cell_type": "markdown",
      "metadata": {
        "id": "MaBnwLdoN1hI",
        "colab_type": "text"
      },
      "source": [
        "<font color=\"green\">Nota: Un término más apropiado es **R**emovidos, ya que considera los recuperados más los fallecidos producto de la epidemia.</font>"
      ]
    },
    {
      "cell_type": "markdown",
      "metadata": {
        "id": "086PGx78v-b6",
        "colab_type": "text"
      },
      "source": [
        "El modelo es el siguiente (ver [Wikipedia](https://en.wikipedia.org/wiki/Compartmental_models_in_epidemiology#The_SEIR_model)):"
      ]
    },
    {
      "cell_type": "markdown",
      "metadata": {
        "id": "KFL7m98xPIol",
        "colab_type": "text"
      },
      "source": [
        "$$ \\dot{S} = \\lambda N - \\mu S - \\beta\\frac{S}{N} I \\tag{1} $$\n",
        "\n",
        "$$ \\dot{E} = \\beta\\frac{S}{N} I - (\\alpha +\\mu) E \\tag{2} $$\n",
        "\n",
        "$$ \\dot{I} = \\alpha E - (\\gamma + \\mu) I \\tag{3} $$\n",
        "\n",
        "$$ \\dot{R} = \\gamma I - \\mu R \\tag{4} $$\n",
        "\n",
        "$$ N = S + E + I + R \\tag{5} $$"
      ]
    },
    {
      "cell_type": "markdown",
      "metadata": {
        "id": "XS0yUw45wNkU",
        "colab_type": "text"
      },
      "source": [
        "Tenemos un sistema de cuatro ecuaciones diferenciales, con cinco parámetros parámetros: $\\alpha, \\beta, \\gamma, \\lambda$ y $\\mu$."
      ]
    },
    {
      "cell_type": "markdown",
      "metadata": {
        "id": "2BvHUgpywTky",
        "colab_type": "text"
      },
      "source": [
        "*   $\\alpha^{-1}$ es período de incubación $t_{incubacion}$\n",
        "\n",
        "*   $\\beta$ es la tasa promedio de contacto de la proporción de la población que se infecta ${t_{contacto}}*{t_{contagio}}$\n",
        "\n",
        "*   $\\gamma^{-1}$ período hacerse contagioso $t_{infeccioso}$\n",
        "\n",
        "*   $\\lambda$ es la tasa de nacimieto y $\\mu$ la tasa de mortalidad. que se suponen iguales, i.e. **N** es constante."
      ]
    },
    {
      "cell_type": "markdown",
      "metadata": {
        "id": "iC0Vytr0X_Un",
        "colab_type": "text"
      },
      "source": [
        "Suponiendo $\\lambda = \\mu = 0$, las ecuaciones se pueden simplificar a:"
      ]
    },
    {
      "cell_type": "markdown",
      "metadata": {
        "id": "V8E9W7YEYQ2r",
        "colab_type": "text"
      },
      "source": [
        "$$ \\dot{S} = - {t_{contacto}}*{t_{contagio}} \\frac{S}{N} I \\tag{1} $$\n",
        "\n",
        "$$ \\dot{E} = {t_{contacto}}*{t_{contagio}} \\frac{S}{N} I - \\frac{E}{t_{incubacion}} \\tag{2} $$\n",
        "\n",
        "$$ \\dot{I} = \\frac{E}{t_{incubacion}} - \\frac{I}{t_{infeccioso}} \\tag{3} $$\n",
        "\n",
        "$$ \\dot{R} = \\frac{I}{t_{infeccioso}} \\tag{4} $$\n",
        "\n",
        "$$ N = S + E + I + R \\tag{5} $$"
      ]
    },
    {
      "cell_type": "markdown",
      "metadata": {
        "id": "JzFncUGYRP8U",
        "colab_type": "text"
      },
      "source": [
        "1.   El cambio en las personas susceptibles a la enfermedad $\\dot{S}$ va disminuyendo proporcionalmente al contacto con la proporción de personas que se infectan $\\beta\\frac{S}{N}I$.\n",
        "\n",
        "2.   La tasa de Exposición $\\dot{E}$ aumenta con el contacto con la proporción de personas que se infectan $\\beta \\frac{S}{N}I$ y disminuye proporcionalmente a los infectado $\\alpha E$.\n",
        "\n",
        "3.   El cambio en las personas infectadas es proporcional a las personas expuestas $\\alpha E$ y disminuye proporcionalmente a la cantidad de personas infectadas $\\gamma I$.\n",
        "\n",
        "4.   La tasa de removidos es proporcional a la cantidad de infectados $\\gamma I$.\n",
        "\n",
        "5.   Indica que el total de la población no cambia, sin efecto de migración y considerando la tasa de mortalidad $\\mu$ igual a la tasa de nacimientos $\\lambda$ (también escrito como $\\Lambda = \\lambda N$). Se asume $\\lambda = \\mu =0$ para efectos de esta simulación."
      ]
    },
    {
      "cell_type": "markdown",
      "metadata": {
        "id": "aeSI9hS_1es8",
        "colab_type": "text"
      },
      "source": [
        "##Distanciamiento Social"
      ]
    },
    {
      "cell_type": "markdown",
      "metadata": {
        "id": "Upm-nnkx1hSy",
        "colab_type": "text"
      },
      "source": [
        "El distanciamiento social procura evitar aglomeraciones, disminuir cantidad de contactos físicos y otros esfuerzos para mitigar la propagación de la enfermedad infecciosa. De acuerdo al modelo, se impacta la tasa de contacto β incorporando un factor ρ de efectividad de las medidas de distanciamiento."
      ]
    },
    {
      "cell_type": "markdown",
      "metadata": {
        "id": "7B0moKp-1jfy",
        "colab_type": "text"
      },
      "source": [
        "El valor ρ es un término constante entre 0 y 1, donde 0 indica aislación total y en cuarentena, mientras que 1 es el modelo base sin intervención en la interacción social. Las ecuaciones (1) y (2) se expresan según las ecuaciones siguientes ponderando la tasa de contacto:"
      ]
    },
    {
      "cell_type": "markdown",
      "metadata": {
        "id": "ht1qlGg6VPXU",
        "colab_type": "text"
      },
      "source": [
        "$$ \\dot{S} = - {\\rho * t_{contacto}}*{t_{contagio}} \\frac{S}{N} I \\tag{1} $$\n",
        "\n",
        "$$ \\dot{E} = {\\rho * t_{contacto}}*{t_{contagio}} \\frac{S}{N} I - \\frac{E}{t_{incubacion}} \\tag{2} $$"
      ]
    },
    {
      "cell_type": "markdown",
      "metadata": {
        "id": "EX3yi-AuFLoT",
        "colab_type": "text"
      },
      "source": [
        "## Valor $R_0$"
      ]
    },
    {
      "cell_type": "markdown",
      "metadata": {
        "id": "p1y7XzkRwp46",
        "colab_type": "text"
      },
      "source": [
        "Un parámetro relevante es conocido como el valor $R_0$, que es el número de casos, en promedio, que causará una persona infectada durante su período infeccioso. Existe brote epidémico cuando es mayor a la unidad: $R_0 > 1$."
      ]
    },
    {
      "cell_type": "markdown",
      "metadata": {
        "id": "pvVVkXwnwrTS",
        "colab_type": "text"
      },
      "source": [
        "![texto alternativo](https://miro.medium.com/max/810/1*kc4-Bv2nzIvb9xG6ELHuzA.png)"
      ]
    },
    {
      "cell_type": "markdown",
      "metadata": {
        "id": "b_RSTgvhwy4a",
        "colab_type": "text"
      },
      "source": [
        "Valores mayores de $R_0$ significan una enfermedad más infecciosa [HealthLine.com](https://www.healthline.com/health/r-nought-reproduction-number#conditions)"
      ]
    },
    {
      "cell_type": "markdown",
      "metadata": {
        "id": "Nt0wOyjHw9e0",
        "colab_type": "text"
      },
      "source": [
        "Este valor define cuan rápido la enfermedad se expande y está relacionado a los parámetros según la razón siguiente:"
      ]
    },
    {
      "cell_type": "markdown",
      "metadata": {
        "id": "moTnumkETFAP",
        "colab_type": "text"
      },
      "source": [
        "$$ R_0 = \\frac{\\alpha}{\\alpha + \\mu} \\frac{\\beta}{\\gamma + \\mu} \\tag{6} $$\n",
        "\n",
        "$$ \\lambda = \\mu = 0: R_0 = \\frac{\\beta}{\\gamma} \\tag{6} $$"
      ]
    },
    {
      "cell_type": "markdown",
      "metadata": {
        "id": "cqJuhEF7ePT_",
        "colab_type": "text"
      },
      "source": [
        "Con la intervención por distanciamiento social, se mitiga el brote $R_{\\rho} = \\rho R_0$, si bien mientras $R_{\\rho}$ sea mayor a 1.0 existirá brote epidémico, el efecto será menor."
      ]
    },
    {
      "cell_type": "markdown",
      "metadata": {
        "id": "mAYBrUBywBpA",
        "colab_type": "text"
      },
      "source": [
        "Información adicional del parámetro $R_0$ y valores estimados para el Covid-19, ver [aquí](https://theconversation.com/r0-how-scientists-quantify-the-intensity-of-an-outbreak-like-coronavirus-and-predict-the-pandemics-spread-130777)."
      ]
    },
    {
      "cell_type": "markdown",
      "metadata": {
        "id": "BMEUKPOTpDBx",
        "colab_type": "text"
      },
      "source": [
        "# Modelando el Coronavirus"
      ]
    },
    {
      "cell_type": "markdown",
      "metadata": {
        "id": "9VgF-RWTxJ2p",
        "colab_type": "text"
      },
      "source": [
        "Con las ecuaciones, se construye el modelo. la clave es determinar los valores para α, β, and γ para ver como se propaga, con y sin intervención social ρ."
      ]
    },
    {
      "cell_type": "markdown",
      "metadata": {
        "id": "gCl6pknAxVOZ",
        "colab_type": "text"
      },
      "source": [
        "*   Período de incubación $t_{incubacion}$ = 5.5 días promedio, i.e. $\\alpha = 0.1818$\n",
        "\n",
        "*   Período que infectado se aisla y no contagia $t_{infeccioso}$ = 2,25 días promedio, i.e. $\\gamma = 0.4444$\n",
        "\n",
        "*   Por ecuación (6), $ R_0 = (t_{contacto}*t_{contagio})*t_{infeccioso} = 2.35$, i.e. $\\beta = 1.0444$"
      ]
    },
    {
      "cell_type": "markdown",
      "metadata": {
        "id": "FFsua617qvV1",
        "colab_type": "text"
      },
      "source": [
        "<font color=\"green\">Nota: Estudios que he revisado estiman la incubación entre 2.2 y 11.5 días con una media de 5.1 días. Mientras que $R_0$ entre 1.5 y 3.5, valores que sirven para análisis de sensibilidad.</font>"
      ]
    },
    {
      "cell_type": "markdown",
      "metadata": {
        "id": "i0yE_JK3xxOC",
        "colab_type": "text"
      },
      "source": [
        "# Modelo SEIR en Python"
      ]
    },
    {
      "cell_type": "markdown",
      "metadata": {
        "id": "ma6-yFJtGnrb",
        "colab_type": "text"
      },
      "source": [
        "### Inicialización de Pyhton"
      ]
    },
    {
      "cell_type": "code",
      "metadata": {
        "id": "ptpOHbURyQKL",
        "colab_type": "code",
        "colab": {}
      },
      "source": [
        "import numpy as np\n",
        "import matplotlib.pyplot as plt"
      ],
      "execution_count": 0,
      "outputs": []
    },
    {
      "cell_type": "markdown",
      "metadata": {
        "id": "4bO7lQ2lxyyy",
        "colab_type": "text"
      },
      "source": [
        "Resolviendo numéricamente las ecuaciones diferenciales por método de Euler, requiere tomar los valores recientes para S, E, I y R, añadiendo la ecuación multiplicado por el delta tiempo."
      ]
    },
    {
      "cell_type": "markdown",
      "metadata": {
        "id": "o0DRm1y8Gyli",
        "colab_type": "text"
      },
      "source": [
        "### Modelo en Pyhton"
      ]
    },
    {
      "cell_type": "code",
      "metadata": {
        "id": "6OdsDbLA1Lnd",
        "colab_type": "code",
        "colab": {}
      },
      "source": [
        "def seir_model_with_soc_dist(init_vals, params, t):\n",
        "    S_0, E_0, I_0, R_0 = init_vals\n",
        "    N = sum(init_vals)\n",
        "    S, E, I, R = [S_0], [E_0], [I_0], [R_0]\n",
        "    alpha, beta, gamma, rho = params\n",
        "    Lambda, mu = 0, 0 # sin nacimientos, defunciones o migraciones poblacionales\n",
        "    dt = t[1] - t[0]\n",
        "    for _ in t[1:]:\n",
        "        next_S = S[-1] + (Lambda*(N-S[-1]) - (rho*beta*S[-1]*I[-1]/N))*dt\n",
        "        next_E = E[-1] + (rho*beta*S[-1]*I[-1]/N - (alpha+mu)*E[-1])*dt\n",
        "        next_I = I[-1] + (alpha*E[-1] - (gamma+mu)*I[-1])*dt\n",
        "        next_R = R[-1] + (gamma*I[-1] - mu*R[-1])*dt\n",
        "        S.append(next_S)\n",
        "        E.append(next_E)\n",
        "        I.append(next_I)\n",
        "        R.append(next_R)\n",
        "    return np.stack([S, E, I, R]).T"
      ],
      "execution_count": 0,
      "outputs": []
    },
    {
      "cell_type": "markdown",
      "metadata": {
        "id": "nqBNoDFyyCwL",
        "colab_type": "text"
      },
      "source": [
        "Sean los valores en el sistema de ecuaciones diferenciales: S_0, E_0, I_0 y R_0 <font color=\"gray\">(no confundir con $R_0$)</font>, y N el tamaño poblacional en el ejercicio.\n",
        "\n",
        "<font color=\"green\">Se simula para una población N = 1.000.000</font>"
      ]
    },
    {
      "cell_type": "markdown",
      "metadata": {
        "id": "rbRE4r29zCje",
        "colab_type": "text"
      },
      "source": [
        "Entonces:\n",
        "\n",
        "*   S_0 = N - E_0 - I_0 - R_0, población susceptible\n",
        "*   E_0 = $(\\frac{\\gamma}{\\alpha})$ * I_0, expuestos iniciales <font color=\"gray\">(por ecuación 3, con $\\lambda = \\mu = 0$).</font>\n",
        "*   I_0 = 100, infectados inciales (supone cierta simultaneidad de brote inicial)\n",
        "*   R_0 = 0, sin recuperados"
      ]
    },
    {
      "cell_type": "markdown",
      "metadata": {
        "id": "Jg05bExmzUE7",
        "colab_type": "text"
      },
      "source": [
        "### Inicializando los parámetros y variables en Python"
      ]
    },
    {
      "cell_type": "code",
      "metadata": {
        "id": "9pMN83y8rt9n",
        "colab_type": "code",
        "outputId": "fc0be183-8cd8-4d16-91fb-b7afb647d3f6",
        "colab": {
          "base_uri": "https://localhost:8080/",
          "height": 34
        }
      },
      "source": [
        "# Define parameters\n",
        "t_max = 200\n",
        "dt = .1\n",
        "t = np.linspace(0, t_max, int(t_max/dt) + 1)\n",
        "N = 1000000\n",
        "Ro = 2.35\n",
        "t_incubacion = 5.5\n",
        "t_infeccioso = 2.25\n",
        "\n",
        "alpha = 1./t_incubacion\n",
        "gamma = 1./t_infeccioso\n",
        "beta = Ro * gamma\n",
        "\n",
        "rho = 1. # factor de intervención social\n",
        "params = alpha, beta, gamma, rho\n",
        "\n",
        "R0 = 0 # ningún recuperado\n",
        "I0 = 100 # infectados iniciales\n",
        "E0 = round(I0 * gamma/alpha) # expuestos iniciales \n",
        "S0 = (N-E0-I0-R0) # suspectibles iniciales\n",
        "init_vals = S0, E0, I0, R0 # (SEIR) se puede expresar total o unitario dividiendo por N.\n",
        "\n",
        "print('Población = {p:.0f}, Susceptibles = {s:.0f}, Expuestos = {e:.0f}, Infectados = {i:.0f}, Removidos = {r:.0f}.'.format(p=N, s=S0, e=E0, i=I0, r=R0))"
      ],
      "execution_count": 3,
      "outputs": [
        {
          "output_type": "stream",
          "text": [
            "Población = 1000000, Susceptibles = 999656, Expuestos = 244, Infectados = 100, Removidos = 0.\n"
          ],
          "name": "stdout"
        }
      ]
    },
    {
      "cell_type": "code",
      "metadata": {
        "id": "6wjcx2Nmr27p",
        "colab_type": "code",
        "colab": {}
      },
      "source": [
        "# Parámetros clínicos\n",
        "t_hosp = 0.20 # porcentaje que requieren hospitalización\n",
        "t_fallecido = 0.02 # porcentaje de fallecidos\n",
        "\n",
        "# Parametros que se incorporarán posteriormente\n",
        "d_hosp = 8. # días hospitalizado\n",
        "l_hosp = 5. # días para hospitalizarsedos\n",
        "t_critico = 0.05 # 5% necesidad ventilación\n",
        "d_critico = 12. # días con ventilación\n",
        "d_fallecido = 20. # días hasta fallecer\n",
        "\n",
        "params_clinic = t_hosp, t_fallecido, d_hosp, l_hosp, t_critico, d_critico, d_fallecido"
      ],
      "execution_count": 0,
      "outputs": []
    },
    {
      "cell_type": "markdown",
      "metadata": {
        "id": "tnE18YV7xDOF",
        "colab_type": "text"
      },
      "source": [
        "### Corriendo la simulación"
      ]
    },
    {
      "cell_type": "code",
      "metadata": {
        "id": "-xQC2W9oKXiV",
        "colab_type": "code",
        "colab": {}
      },
      "source": [
        "# Run simulation\n",
        "results = seir_model_with_soc_dist(init_vals, params, t)"
      ],
      "execution_count": 0,
      "outputs": []
    },
    {
      "cell_type": "markdown",
      "metadata": {
        "id": "2kY5rTi641Jf",
        "colab_type": "text"
      },
      "source": [
        "### Casos desde brote inicial"
      ]
    },
    {
      "cell_type": "markdown",
      "metadata": {
        "id": "4y5KXTPO43-l",
        "colab_type": "text"
      },
      "source": [
        "Algunos valores desde el inicio del brote."
      ]
    },
    {
      "cell_type": "code",
      "metadata": {
        "id": "i2BxZauy47V1",
        "colab_type": "code",
        "outputId": "c8b4a74d-7929-413a-9af9-fd8df92113e2",
        "colab": {
          "base_uri": "https://localhost:8080/",
          "height": 50
        }
      },
      "source": [
        "# Visualizar datos de casos vs. días.\n",
        "array=results[:,2]\n",
        "for casos in (1000,10000):\n",
        "  print('A los {d:.0f} días desde las primeras infecciones hay {c:} casos.'.format(d=np.min(np.where(array>=casos))*dt, c=casos))"
      ],
      "execution_count": 6,
      "outputs": [
        {
          "output_type": "stream",
          "text": [
            "A los 18 días desde las primeras infecciones hay 1000 casos.\n",
            "A los 35 días desde las primeras infecciones hay 10000 casos.\n"
          ],
          "name": "stdout"
        }
      ]
    },
    {
      "cell_type": "markdown",
      "metadata": {
        "id": "oiDM5F4_G2zz",
        "colab_type": "text"
      },
      "source": [
        "### Función para graficar resultados en Python"
      ]
    },
    {
      "cell_type": "code",
      "metadata": {
        "id": "TAGM9JBbJeYD",
        "colab_type": "code",
        "colab": {}
      },
      "source": [
        "# Helper function for plotting\n",
        "def plot_model(t, results, params, params_clinic):\n",
        "  max_inf = np.max(results[:,2]) # total de infectados\n",
        "  max_rec = np.max(results[:,3]) # total de removidos (recuperados + fallecidos)\n",
        "  plt.figure(figsize=(12,8))\n",
        "  plt.plot(t, results[:,2])\n",
        "  plt.plot(t, params_clinic[0]*results[:,2], color='orange', linestyle='dashed') # Hospitalizados\n",
        "  plt.plot(t, params_clinic[1]*results[:,3]*max_inf/max_rec, 'r--') # Fallecidos\n",
        "  plt.ylabel('Población')\n",
        "  plt.xlabel('Días')\n",
        "  plt.title(r'Modelo SIER COVID-19 con parámetros t_inc={a:.2f}, t_inf={c:.2f}, Ro={r:.2f} y distanciamiento social ρ={p:.1f}'\n",
        "    .format(a=1/params[0],c=1/params[2],p=params[3], r=params[1]/params[2]))\n",
        "  plt.legend(['Infectados','Hospitalizados','Fallecidos'])\n",
        "  plt.show()"
      ],
      "execution_count": 0,
      "outputs": []
    },
    {
      "cell_type": "markdown",
      "metadata": {
        "id": "CVGmRAz8ILK8",
        "colab_type": "text"
      },
      "source": [
        "### Graficando resultados"
      ]
    },
    {
      "cell_type": "code",
      "metadata": {
        "id": "nnso3SDWTC6r",
        "colab_type": "code",
        "outputId": "ddce18df-4d60-4479-9e21-2f67b6cf1e92",
        "colab": {
          "base_uri": "https://localhost:8080/",
          "height": 563
        }
      },
      "source": [
        "# Plot results\n",
        "plot_model(t, results, params, params_clinic)\n",
        "infectados=np.max(results[:,2])\n",
        "fallecidos=t_fallecido*infectados\n",
        "print('Para una población de {p:.0f} habitantes.'.format(p=N))\n",
        "print('La máxima cantidad de infectados es {c:.0f} que se alcanza a los {d:.0f} días desde el caso {i:.0f}.'.format(c=infectados, d=np.max(np.where(array>=casos))*dt, i=I0))\n",
        "print('La cantidad de fallecidos es {d:.0f}.'.format(d=fallecidos))"
      ],
      "execution_count": 8,
      "outputs": [
        {
          "output_type": "display_data",
          "data": {
            "image/png": "[encoded data removed]",
            "text/plain": [
              "<Figure size 864x576 with 1 Axes>"
            ]
          },
          "metadata": {
            "tags": []
          }
        },
        {
          "output_type": "stream",
          "text": [
            "Para una población de 1000000 habitantes.\n",
            "La máxima cantidad de infectados es 60914 que se alcanza a los 84 días desde el caso 100.\n",
            "La cantidad de fallecidos es 1218.\n"
          ],
          "name": "stdout"
        }
      ]
    },
    {
      "cell_type": "markdown",
      "metadata": {
        "id": "9EG9L_M21S_G",
        "colab_type": "text"
      },
      "source": [
        "Sin distanciamiento social (ρ=1) se produce un peak de infectados del 6% de la población. Es una infección severa aunque con duración de unos 100 días."
      ]
    },
    {
      "cell_type": "markdown",
      "metadata": {
        "id": "FwSGm0Lp1cKS",
        "colab_type": "text"
      },
      "source": [
        "Considerando ahora el efecto de distanciamiento social, sea voluntario, cuarentena (caso las 7 comunas de Santiago), etc. Supongamos porcentaje de efectividad del 0%, 20% y 40%, es decir ρ = 1.0, 0.8 y 0.60."
      ]
    },
    {
      "cell_type": "code",
      "metadata": {
        "id": "5ig39vYX2fj-",
        "colab_type": "code",
        "colab": {}
      },
      "source": [
        "# Corriendo diversos parámetros ρ\n",
        "rho1 = 1.0\n",
        "params = alpha, beta, gamma, rho1\n",
        "results1 = seir_model_with_soc_dist(init_vals, params, t)\n",
        "\n",
        "rho2 = 0.8\n",
        "params = alpha, beta, gamma, rho2\n",
        "results2 = seir_model_with_soc_dist(init_vals, params, t)\n",
        "\n",
        "rho3 = 0.6\n",
        "params = alpha, beta, gamma, rho3\n",
        "results3 = seir_model_with_soc_dist(init_vals, params, t)"
      ],
      "execution_count": 0,
      "outputs": []
    },
    {
      "cell_type": "code",
      "metadata": {
        "id": "6RWVQXWm5itu",
        "colab_type": "code",
        "colab": {}
      },
      "source": [
        "# Helper function for plotting\n",
        "def plot_model_multiple(t, results1, results2, results3, params, params_clinic):\n",
        "  plt.figure(figsize=(12,8))\n",
        "  max_inf = np.max(results[:,2]) # total de infectados\n",
        "  max_rec = np.max(results[:,3]) # total de removidos (recuperados + fallecidos)\n",
        "  plt.plot(t, results1[:,2])\n",
        "  plt.plot(t, results2[:,2])\n",
        "  plt.plot(t, params_clinic[0]*results2[:,2], color='orange', linestyle='dashed') # Hospitalizados\n",
        "  plt.plot(t, params_clinic[1]*results2[:,3]*max_inf/max_rec, color='red', linestyle='dashed') # Fallecidos\n",
        "  plt.plot(t, results3[:,2])\n",
        "  plt.ylabel('Población infectada')\n",
        "  plt.xlabel('Días')\n",
        "  plt.title(r'Modelo SIER COVID-19 con parámetros t_inc={a:.2f}, t_inf={c:.2f}, Ro={r:.2f} y distanciamiento social ρ.'\n",
        "    .format(a=1/params[0],c=1/params[2],r=params[1]/params[2]))\n",
        "  plt.legend(['ρ=1.0','ρ=0.8','hospitalizados','fallecidos','ρ=0.6'])\n",
        "  plt.show()"
      ],
      "execution_count": 0,
      "outputs": []
    },
    {
      "cell_type": "code",
      "metadata": {
        "id": "86Hg68nhXSIL",
        "colab_type": "code",
        "outputId": "c65f9d0a-5757-4e9c-b94d-3925c2d584f6",
        "colab": {
          "base_uri": "https://localhost:8080/",
          "height": 563
        }
      },
      "source": [
        "# Plot results\n",
        "plot_model_multiple(t, results1, results2, results3, params, params_clinic)\n",
        "infectados=np.max(results2[:,2])\n",
        "fallecidos=t_fallecido*infectados\n",
        "print('Para una población de {p:.0f} habitantes. Con distanciamiento social ρ={r:.2f}.'.format(p=N, r=rho2))\n",
        "print('La máxima cantidad de infectados es {c:.0f} que se alcanza a los {d:.0f} días desde el caso {i:.0f}.'.format(c=infectados, d=np.max(np.where(array>=casos))*dt, i=I0))\n",
        "print('La cantidad de fallecidos es {d:.0f}.'.format(d=fallecidos))"
      ],
      "execution_count": 11,
      "outputs": [
        {
          "output_type": "display_data",
          "data": {
            "image/png": "[encoded data removed]",
            "text/plain": [
              "<Figure size 864x576 with 1 Axes>"
            ]
          },
          "metadata": {
            "tags": []
          }
        },
        {
          "output_type": "stream",
          "text": [
            "Para una población de 1000000 habitantes. Con distanciamiento social ρ=0.80.\n",
            "La máxima cantidad de infectados es 38380 que se alcanza a los 84 días desde el caso 100.\n",
            "La cantidad de fallecidos es 768.\n"
          ],
          "name": "stdout"
        }
      ]
    },
    {
      "cell_type": "markdown",
      "metadata": {
        "id": "8ORoQnYV14oE",
        "colab_type": "text"
      },
      "source": [
        "Vemos el efecto de aplanamiento de la curva para las personas infectadas y el período de días en que ocurre. Se puede bajar de un peak del 6% a 4% de la población considerando factor de aislación de 0.8, a la vez que da más tiempo a prepararse para enfrentar el peak."
      ]
    },
    {
      "cell_type": "markdown",
      "metadata": {
        "id": "98Ia_mhs9wL8",
        "colab_type": "text"
      },
      "source": [
        "### Gráfico que muestra las cuatro variables del modelo SEIR"
      ]
    },
    {
      "cell_type": "code",
      "metadata": {
        "id": "ChaMuHz0JdLD",
        "colab_type": "code",
        "outputId": "f2a90f82-e595-416b-8a0f-8075fc3156d6",
        "colab": {
          "base_uri": "https://localhost:8080/",
          "height": 513
        }
      },
      "source": [
        "plt.figure(figsize=(12,8))\n",
        "plt.plot(t, results2)\n",
        "plt.legend(['Susceptible', 'Expuesto', 'Infectado', 'Removido'])\n",
        "plt.ylabel('Población')\n",
        "plt.xlabel('Días')\n",
        "plt.title(r'Modelo SIER COVID-19 con parámetros t_inc={a:.2f}, t_inf={c:.2f}, Ro={r:.2f} y distanciamiento social ρ={p:.2f}'\n",
        "  .format(a=1/params[0],c=1/params[2],p=rho2,r=params[1]/params[2]))\n",
        "plt.show()"
      ],
      "execution_count": 12,
      "outputs": [
        {
          "output_type": "display_data",
          "data": {
            "image/png": "[encoded data removed]",
            "text/plain": [
              "<Figure size 864x576 with 1 Axes>"
            ]
          },
          "metadata": {
            "tags": []
          }
        }
      ]
    },
    {
      "cell_type": "markdown",
      "metadata": {
        "id": "_ou3ozwy2M87",
        "colab_type": "text"
      },
      "source": [
        "## Referencias"
      ]
    },
    {
      "cell_type": "markdown",
      "metadata": {
        "id": "i4CziCSZ2Q2h",
        "colab_type": "text"
      },
      "source": [
        "El estudio [Feasibility of controlling COVID-19 outbreaks by isolation of cases and contacts](https://www.thelancet.com/journals/langlo/article/PIIS2214-109X(20)30074-7/fulltext) (Hellewell et al. 2020) estima incubación de 5 días y $R_0$ de 3.5."
      ]
    },
    {
      "cell_type": "markdown",
      "metadata": {
        "id": "zcDddmbY2VDh",
        "colab_type": "text"
      },
      "source": [
        "Del paper [Epidemic analysis of COVID-19 in China by dynamical modeling](https://arxiv.org/pdf/2002.06563.pdf) (que usa una generalización del modelo SEIR) estiman un valor para $t_{infeccioso}$ de 2 días, entonces γ = 0.5.\n"
      ]
    },
    {
      "cell_type": "markdown",
      "metadata": {
        "id": "XxObaNr03Nzd",
        "colab_type": "text"
      },
      "source": [
        "Un simulador más completo en este sitio de [Gabriel Goh](http://gabgoh.github.io/COVID), Con los mismos parámetros indicados, pero con intervención del 50% (i.e. $R_t = \\frac{1}{2}R_0$) se obtiene estos [resultados](http://gabgoh.github.io/COVID/?CFR=0.02&D_hospital_lag=5.0&D_incbation=5.5&D_infectious=2.25&D_recovery_mild=8.0&D_recovery_severe=12.0&I0=1&InterventionAmt=0.5&InterventionTime=60&P_SEVERE=0.46&R0=2.35&Time_to_death=20.0&logN=14.11)."
      ]
    },
    {
      "cell_type": "markdown",
      "metadata": {
        "id": "nY9vxEjtj_gc",
        "colab_type": "text"
      },
      "source": [
        "Simulador de [isee system](https://exchange.iseesystems.com/public/isee/covid-19-simulator/index.html), probablemente el más completo disponible públicamente. Incluye un análisis What-If del COVID-19 según políticas epidémicas que se adopten. Se hace una explicación en el [webminar](https://www.iseesystems.com/resources/webinars/) \"Modeling the COVID-19 Pandemic: A Primer and Overview\", también disponible en [YouTube](https://youtu.be/XhywbOgMXe0)."
      ]
    },
    {
      "cell_type": "markdown",
      "metadata": {
        "id": "tb4HAZe3GvB4",
        "colab_type": "text"
      },
      "source": [
        "Modelo SEIR para ébola en [Estimating the Reproduction Number of Ebola Virus](http://currents.plos.org/outbreaks/article/estimating-the-reproduction-number-of-zaire-ebolavirus-ebov-during-the-2014-outbreak-in-west-africa/)."
      ]
    },
    {
      "cell_type": "markdown",
      "metadata": {
        "id": "3pGQ9Vh1nSm_",
        "colab_type": "text"
      },
      "source": [
        "## Artículos de Interés"
      ]
    },
    {
      "cell_type": "markdown",
      "metadata": {
        "id": "LMMKCY1loKaU",
        "colab_type": "text"
      },
      "source": [
        "\"COVID-19 reports\" publicado en MRC Centre for Global Infectious Disease Analysis, [Imperial College London](https://www.imperial.ac.uk/mrc-global-infectious-disease-analysis/news--wuhan-coronavirus/)"
      ]
    },
    {
      "cell_type": "markdown",
      "metadata": {
        "id": "s3Si7dgFnowO",
        "colab_type": "text"
      },
      "source": [
        "\"Statement in support of the scientists, public health professionals, and medical professionals of China combatting COVID-19\", publicado en [The Lancet](https://bit.ly/2ye4H3Y)"
      ]
    },
    {
      "cell_type": "markdown",
      "metadata": {
        "id": "xuZBcfqkn2iu",
        "colab_type": "text"
      },
      "source": [
        "\"A pneumonia outbreak associated with a new coronavirus of probable bat origin\", publicado en [Nature](https://www.nature.com/articles/s41586-020-2012-7)"
      ]
    },
    {
      "cell_type": "markdown",
      "metadata": {
        "id": "auAw6GGv6BXn",
        "colab_type": "text"
      },
      "source": [
        "El programa [Stella](https://www.iseesystems.com/store/products/) es una suite completa para el modelamiento con versiones desktop y [on-line](https://exchange.iseesystems.com/). Se ofrece una versión trial completamente funcional para desktop y una versión on-line gratuita limitada."
      ]
    },
    {
      "cell_type": "markdown",
      "metadata": {
        "id": "6mBSS0cx5HMW",
        "colab_type": "text"
      },
      "source": [
        "El sitio [Insight Maker](https://insightmaker.com/) permite modelar estas ecuaciones en forma gráfica y facilita construir modelos complejos de manera simple online y gratuito."
      ]
    }
  ]
}